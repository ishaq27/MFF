{
  "nbformat": 4,
  "nbformat_minor": 0,
  "metadata": {
    "colab": {
      "name": "Copy of Fashion MINST CNN.ipynb",
      "provenance": [],
      "collapsed_sections": [],
      "authorship_tag": "ABX9TyNhJnLY6KiA8hpwqgIacsGx",
      "include_colab_link": true
    },
    "kernelspec": {
      "name": "python3",
      "display_name": "Python 3"
    },
    "accelerator": "GPU"
  },
  "cells": [
    {
      "cell_type": "markdown",
      "metadata": {
        "id": "view-in-github",
        "colab_type": "text"
      },
      "source": [
        "<a href=\"https://colab.research.google.com/github/ishaq27/MFF/blob/master/Fashion_MINST_CNN.ipynb\" target=\"_parent\"><img src=\"https://colab.research.google.com/assets/colab-badge.svg\" alt=\"Open In Colab\"/></a>"
      ]
    },
    {
      "cell_type": "markdown",
      "metadata": {
        "id": "iZdCQdGdD7Yd"
      },
      "source": [
        "### Fashion MNIST DataSet\r\n",
        "#***By Muhammad Ishaq - PIAIC61884***\r\n",
        "\r\n",
        "# Using CNN"
      ]
    },
    {
      "cell_type": "markdown",
      "metadata": {
        "id": "kQCkFVwkF9Gs"
      },
      "source": [
        "Model creation using simple neural networks"
      ]
    },
    {
      "cell_type": "code",
      "metadata": {
        "colab": {
          "base_uri": "https://localhost:8080/"
        },
        "id": "1frKahh8A6El",
        "outputId": "dbff8890-ffba-423a-ecf4-838200a2f35b"
      },
      "source": [
        "pip install -U tensorflow_datasets"
      ],
      "execution_count": null,
      "outputs": [
        {
          "output_type": "stream",
          "text": [
            "Collecting tensorflow_datasets\n",
            "\u001b[?25l  Downloading https://files.pythonhosted.org/packages/d3/91/c3e36695ca04e6f3c2d920887d7dc36550f6bbb03d7d5fd03c2172b06d97/tensorflow_datasets-4.2.0-py3-none-any.whl (3.7MB)\n",
            "\u001b[K     |████████████████████████████████| 3.7MB 7.7MB/s \n",
            "\u001b[?25hRequirement already satisfied, skipping upgrade: future in /usr/local/lib/python3.6/dist-packages (from tensorflow_datasets) (0.16.0)\n",
            "Requirement already satisfied, skipping upgrade: tqdm in /usr/local/lib/python3.6/dist-packages (from tensorflow_datasets) (4.41.1)\n",
            "Requirement already satisfied, skipping upgrade: importlib-resources; python_version < \"3.9\" in /usr/local/lib/python3.6/dist-packages (from tensorflow_datasets) (5.1.0)\n",
            "Requirement already satisfied, skipping upgrade: attrs>=18.1.0 in /usr/local/lib/python3.6/dist-packages (from tensorflow_datasets) (20.3.0)\n",
            "Requirement already satisfied, skipping upgrade: protobuf>=3.12.2 in /usr/local/lib/python3.6/dist-packages (from tensorflow_datasets) (3.12.4)\n",
            "Requirement already satisfied, skipping upgrade: typing-extensions; python_version < \"3.8\" in /usr/local/lib/python3.6/dist-packages (from tensorflow_datasets) (3.7.4.3)\n",
            "Requirement already satisfied, skipping upgrade: numpy in /usr/local/lib/python3.6/dist-packages (from tensorflow_datasets) (1.19.5)\n",
            "Requirement already satisfied, skipping upgrade: dill in /usr/local/lib/python3.6/dist-packages (from tensorflow_datasets) (0.3.3)\n",
            "Requirement already satisfied, skipping upgrade: termcolor in /usr/local/lib/python3.6/dist-packages (from tensorflow_datasets) (1.1.0)\n",
            "Requirement already satisfied, skipping upgrade: tensorflow-metadata in /usr/local/lib/python3.6/dist-packages (from tensorflow_datasets) (0.27.0)\n",
            "Requirement already satisfied, skipping upgrade: promise in /usr/local/lib/python3.6/dist-packages (from tensorflow_datasets) (2.3)\n",
            "Requirement already satisfied, skipping upgrade: six in /usr/local/lib/python3.6/dist-packages (from tensorflow_datasets) (1.15.0)\n",
            "Requirement already satisfied, skipping upgrade: dataclasses; python_version < \"3.7\" in /usr/local/lib/python3.6/dist-packages (from tensorflow_datasets) (0.8)\n",
            "Requirement already satisfied, skipping upgrade: requests>=2.19.0 in /usr/local/lib/python3.6/dist-packages (from tensorflow_datasets) (2.23.0)\n",
            "Requirement already satisfied, skipping upgrade: absl-py in /usr/local/lib/python3.6/dist-packages (from tensorflow_datasets) (0.10.0)\n",
            "Requirement already satisfied, skipping upgrade: zipp>=0.4; python_version < \"3.8\" in /usr/local/lib/python3.6/dist-packages (from importlib-resources; python_version < \"3.9\"->tensorflow_datasets) (3.4.0)\n",
            "Requirement already satisfied, skipping upgrade: setuptools in /usr/local/lib/python3.6/dist-packages (from protobuf>=3.12.2->tensorflow_datasets) (53.0.0)\n",
            "Requirement already satisfied, skipping upgrade: googleapis-common-protos<2,>=1.52.0 in /usr/local/lib/python3.6/dist-packages (from tensorflow-metadata->tensorflow_datasets) (1.52.0)\n",
            "Requirement already satisfied, skipping upgrade: chardet<4,>=3.0.2 in /usr/local/lib/python3.6/dist-packages (from requests>=2.19.0->tensorflow_datasets) (3.0.4)\n",
            "Requirement already satisfied, skipping upgrade: idna<3,>=2.5 in /usr/local/lib/python3.6/dist-packages (from requests>=2.19.0->tensorflow_datasets) (2.10)\n",
            "Requirement already satisfied, skipping upgrade: certifi>=2017.4.17 in /usr/local/lib/python3.6/dist-packages (from requests>=2.19.0->tensorflow_datasets) (2020.12.5)\n",
            "Requirement already satisfied, skipping upgrade: urllib3!=1.25.0,!=1.25.1,<1.26,>=1.21.1 in /usr/local/lib/python3.6/dist-packages (from requests>=2.19.0->tensorflow_datasets) (1.24.3)\n",
            "Installing collected packages: tensorflow-datasets\n",
            "  Found existing installation: tensorflow-datasets 4.0.1\n",
            "    Uninstalling tensorflow-datasets-4.0.1:\n",
            "      Successfully uninstalled tensorflow-datasets-4.0.1\n",
            "Successfully installed tensorflow-datasets-4.2.0\n"
          ],
          "name": "stdout"
        }
      ]
    },
    {
      "cell_type": "code",
      "metadata": {
        "id": "ibA-hj-oD6aI"
      },
      "source": [
        "from __future__ import absolute_import, division, print_function"
      ],
      "execution_count": null,
      "outputs": []
    },
    {
      "cell_type": "code",
      "metadata": {
        "id": "CzFFDpA_Bgub"
      },
      "source": [
        "\r\n",
        "import tensorflow as tf\r\n",
        "import tensorflow_datasets as tfds\r\n",
        "tfds.disable_progress_bar()\r\n",
        "tf.compat.v1.logging.set_verbosity(tf.compat.v1.logging.ERROR)"
      ],
      "execution_count": null,
      "outputs": []
    },
    {
      "cell_type": "code",
      "metadata": {
        "id": "sqflsdzQ7TAw"
      },
      "source": [
        "import logging\r\n",
        "logger = tf.get_logger()\r\n",
        "logger.setLevel(logging.ERROR)"
      ],
      "execution_count": null,
      "outputs": []
    },
    {
      "cell_type": "code",
      "metadata": {
        "id": "MkGVx83rD4iV"
      },
      "source": [
        "import math\r\n",
        "import numpy as np\r\n",
        "import matplotlib.pyplot as plt\r\n"
      ],
      "execution_count": null,
      "outputs": []
    },
    {
      "cell_type": "code",
      "metadata": {
        "id": "v_pY6rW7Dtxo"
      },
      "source": [
        "# for better progress bar\r\n",
        "import tqdm\r\n",
        "import tqdm.auto\r\n",
        "tqdm.tqdm = tqdm.auto.tqdm"
      ],
      "execution_count": null,
      "outputs": []
    },
    {
      "cell_type": "code",
      "metadata": {
        "colab": {
          "base_uri": "https://localhost:8080/"
        },
        "id": "nwQ2BhdZP8fQ",
        "outputId": "3e21a7f2-ea75-4f96-fd74-124ec9ca43b5"
      },
      "source": [
        "print(tf.__version__)"
      ],
      "execution_count": null,
      "outputs": [
        {
          "output_type": "stream",
          "text": [
            "2.4.1\n"
          ],
          "name": "stdout"
        }
      ]
    },
    {
      "cell_type": "code",
      "metadata": {
        "id": "-LkiI2AgPrnY"
      },
      "source": [
        "tf.compat.v1.enable_eager_execution()"
      ],
      "execution_count": null,
      "outputs": []
    },
    {
      "cell_type": "code",
      "metadata": {
        "id": "ifGOhzXF79Vr"
      },
      "source": [
        ""
      ],
      "execution_count": null,
      "outputs": []
    },
    {
      "cell_type": "code",
      "metadata": {
        "id": "1eqB2u78lr3w",
        "colab": {
          "base_uri": "https://localhost:8080/"
        },
        "outputId": "3f335be2-dad2-4171-941b-5d11b730576e"
      },
      "source": [
        "dataset, metadata = tfds.load('fashion_mnist',as_supervised=True, with_info=True)\r\n",
        "train_dataset, test_dataset = dataset['train'], dataset['test']"
      ],
      "execution_count": null,
      "outputs": [
        {
          "output_type": "stream",
          "text": [
            "\u001b[1mDownloading and preparing dataset 29.45 MiB (download: 29.45 MiB, generated: 36.42 MiB, total: 65.87 MiB) to /root/tensorflow_datasets/fashion_mnist/3.0.1...\u001b[0m\n",
            "\u001b[1mDataset fashion_mnist downloaded and prepared to /root/tensorflow_datasets/fashion_mnist/3.0.1. Subsequent calls will reuse this data.\u001b[0m\n"
          ],
          "name": "stdout"
        }
      ]
    },
    {
      "cell_type": "code",
      "metadata": {
        "colab": {
          "base_uri": "https://localhost:8080/"
        },
        "id": "kAsMjJTS8dqp",
        "outputId": "50764b62-c69c-439e-e05c-dd2b91db2fd3"
      },
      "source": [
        "class_names = metadata.features['label'].names\r\n",
        "print(\"Class names: {}\".format(class_names))"
      ],
      "execution_count": null,
      "outputs": [
        {
          "output_type": "stream",
          "text": [
            "Class names: ['T-shirt/top', 'Trouser', 'Pullover', 'Dress', 'Coat', 'Sandal', 'Shirt', 'Sneaker', 'Bag', 'Ankle boot']\n"
          ],
          "name": "stdout"
        }
      ]
    },
    {
      "cell_type": "code",
      "metadata": {
        "colab": {
          "base_uri": "https://localhost:8080/"
        },
        "id": "4d7YCpXLSNNl",
        "outputId": "66f1062f-1460-438e-bc24-9a1952cdd458"
      },
      "source": [
        "num_train_examples = metadata.splits['train'].num_examples\r\n",
        "num_test_examples = metadata.splits['test'].num_examples\r\n",
        "\r\n",
        "print('Number of training examples:{}'.format(num_train_examples))\r\n",
        "print('Number of test examples:{}'.format(num_test_examples))"
      ],
      "execution_count": null,
      "outputs": [
        {
          "output_type": "stream",
          "text": [
            "Number of training examples:60000\n",
            "Number of test examples:10000\n"
          ],
          "name": "stdout"
        }
      ]
    },
    {
      "cell_type": "markdown",
      "metadata": {
        "id": "GCo4hN4xiQVw"
      },
      "source": [
        "# data preprocessing started"
      ]
    },
    {
      "cell_type": "code",
      "metadata": {
        "id": "Xzd8F7v3UhKH"
      },
      "source": [
        "def normalize(images, labels):\r\n",
        "  images = tf.cast(images, tf.float32)\r\n",
        "  images /= 255\r\n",
        "  return images, labels\r\n",
        "\r\n",
        "# The map functionapplies the normalize function to each element in the tranin\r\n",
        "# and test datasets\r\n",
        "train_dataset = train_dataset.map(normalize)\r\n",
        "test_dataset = test_dataset.map(normalize)\r\n",
        "\r\n",
        "train_dataset =  train_dataset.cache()\r\n",
        "test_dataset  =  test_dataset.cache()\r\n"
      ],
      "execution_count": null,
      "outputs": []
    },
    {
      "cell_type": "markdown",
      "metadata": {
        "id": "0vcYMZrWlv-1"
      },
      "source": [
        "dataset, metadat = tfds.load('fashion_mnist',as_supervised=True, with_info=True)\r\n",
        "train_dataset, test_dataset = dataset['train'], dataset['test']"
      ]
    },
    {
      "cell_type": "markdown",
      "metadata": {
        "id": "yRwYWZQojTOZ"
      },
      "source": [
        "# Explore the processed data\r\n",
        "lets plot an image to see what it looks like\r\n"
      ]
    },
    {
      "cell_type": "code",
      "metadata": {
        "colab": {
          "base_uri": "https://localhost:8080/",
          "height": 269
        },
        "id": "xYU5a_EIhmi_",
        "outputId": "9c60b257-a356-4acb-f1bf-b4f5d86a0655"
      },
      "source": [
        "# Tae a sngle image, and reove the color dimension by eshaping\r\n",
        "\r\n",
        "for image, label in test_dataset.take(1):\r\n",
        "  break\r\n",
        "image = image.numpy().reshape((28,28))\r\n",
        "\r\n",
        "# Plot the image - voila a piece of fashion clothing\r\n",
        "plt.figure()\r\n",
        "plt.imshow(image, cmap=plt.cm.binary)\r\n",
        "plt.colorbar()\r\n",
        "plt.grid(False)\r\n",
        "plt.show()"
      ],
      "execution_count": null,
      "outputs": [
        {
          "output_type": "display_data",
          "data": {
            "image/png": "[encoded data removed]",
            "text/plain": [
              "<Figure size 432x288 with 2 Axes>"
            ]
          },
          "metadata": {
            "tags": [],
            "needs_background": "light"
          }
        }
      ]
    },
    {
      "cell_type": "code",
      "metadata": {
        "colab": {
          "base_uri": "https://localhost:8080/",
          "height": 589
        },
        "id": "n6txMbEvkVmQ",
        "outputId": "be4622e3-5a5a-48c2-a1ed-d976bc032703"
      },
      "source": [
        "plt.figure(figsize=(10,10))\r\n",
        "for i, (image, label) in enumerate(test_dataset.take(25)):\r\n",
        "  image = image.numpy().reshape((28,28))\r\n",
        "  plt.subplot(5,5,i+1)\r\n",
        "  plt.xticks([])\r\n",
        "  plt.yticks([])\r\n",
        "  plt.grid(False)\r\n",
        "  plt.imshow(image, cmap=plt.cm.binary)\r\n",
        "  plt.xlabel(class_names[label])\r\n",
        "  i += 1\r\n",
        "plt.show()\r\n"
      ],
      "execution_count": null,
      "outputs": [
        {
          "output_type": "display_data",
          "data": {
            "image/png": "[encoded data removed]",
            "text/plain": [
              "<Figure size 720x720 with 25 Axes>"
            ]
          },
          "metadata": {
            "tags": []
          }
        }
      ]
    },
    {
      "cell_type": "markdown",
      "metadata": {
        "id": "Ay5Uugzc-yZg"
      },
      "source": [
        "# Build the model\r\n",
        "Building the nural network requires configuring the layers f the model, then compiling the model.\r\n",
        "\r\n",
        "# Setup the layers\r\n",
        "The basic buildng block of neural network is the layer. A layer extracts a representation from the data fed into it. Hopefully, a series of connected layers results in a representation that is meaningful for the problem at hand.\r\n",
        "\r\n",
        "Much of deep leaning consists of chaining together simple layers. Most layers, like tf.keras.layers.Dense,have internal parameters which are adjusted(\"learned\") during training."
      ]
    },
    {
      "cell_type": "code",
      "metadata": {
        "id": "Rng9mutEnroP"
      },
      "source": [
        "model = tf.keras.Sequential([\r\n",
        "        tf.keras.layers.Conv2D(32, (3,3), padding='same',activation=tf.nn.relu,\r\n",
        "                               input_shape = (28,28,1)),\r\n",
        "        tf.keras.layers.MaxPool2D((2,2), strides=2),\r\n",
        "        tf.keras.layers.Conv2D(64, (3,3), padding='same', activation=tf.nn.relu),\r\n",
        "        tf.keras.layers.MaxPool2D((2,2), strides=2),\r\n",
        "        tf.keras.layers.Flatten(),\r\n",
        "        tf.keras.layers.Dense(128, activation=tf.nn.relu),\r\n",
        "        tf.keras.layers.Dense(10, activation=tf.nn.softmax)\r\n",
        "])"
      ],
      "execution_count": null,
      "outputs": []
    },
    {
      "cell_type": "code",
      "metadata": {
        "id": "eQdorMhWHeX5"
      },
      "source": [
        "num_train_example = metadata.splits['train'].num_examples"
      ],
      "execution_count": null,
      "outputs": []
    },
    {
      "cell_type": "code",
      "metadata": {
        "id": "0Z1207NsAzk0"
      },
      "source": [
        "model.compile(optimizer='adam',\r\n",
        "              loss=tf.keras.losses.SparseCategoricalCrossentropy(),\r\n",
        "              metrics=['accuracy'])"
      ],
      "execution_count": null,
      "outputs": []
    },
    {
      "cell_type": "code",
      "metadata": {
        "id": "_jKjxFFMJkrj"
      },
      "source": [
        "#num_train_example = 60000\r\n",
        "#num_test_example = 10000"
      ],
      "execution_count": null,
      "outputs": []
    },
    {
      "cell_type": "markdown",
      "metadata": {
        "id": "4bBDOzFhCUHj"
      },
      "source": [
        "#**Train the model**\r\n",
        "First, we define the iteration behavior for the train dataset:\r\n",
        "\r\n",
        "1. Repeat forever for specifying dataet.repeat() (the epochs parameter described below limits how long we perform training).\r\n",
        "2. The dataset.shuffle(60000) randomizes the order so our model cannot learn anything from the order of the example\r\n",
        "3.And dataset.batch(32) tells model.fit to use batches of 32 images and labels when updating the model variables.\r\n",
        "\r\n",
        "\r\n",
        "Traning is performed by calling the model.fit method:\r\n",
        "\r\n",
        "1. Feed the training data to the model using train_dataset\r\n",
        "2. model learns to associate images and labels.\r\n",
        "3. The eochs=5 parameter limits training to 5 full iterations of the training dataset, so a total of 5*60000 = 300000 examples.\r\n",
        "\r\n",
        "(Don't worry aboutsteps_per_epoch, the requirement to have this flag will soon be removed\r\n"
      ]
    },
    {
      "cell_type": "code",
      "metadata": {
        "id": "GGiBVrDbB8Lx"
      },
      "source": [
        "BATCH_SIZE = 32\r\n",
        "train_dataset = train_dataset.cache().repeat().shuffle(num_test_examples).batch(BATCH_SIZE)\r\n",
        "test_dataset = test_dataset.cache().batch(BATCH_SIZE)\r\n"
      ],
      "execution_count": null,
      "outputs": []
    },
    {
      "cell_type": "code",
      "metadata": {
        "colab": {
          "base_uri": "https://localhost:8080/"
        },
        "id": "bqSx-E_bHULn",
        "outputId": "df9cef08-9ea5-4e6a-eb16-de52ffaec42b"
      },
      "source": [
        "model.fit(train_dataset, epochs=10,steps_per_epoch=math.ceil(num_train_examples/BATCH_SIZE))"
      ],
      "execution_count": null,
      "outputs": [
        {
          "output_type": "stream",
          "text": [
            "Epoch 1/10\n",
            "1875/1875 [==============================] - 16s 5ms/step - loss: 0.5564 - accuracy: 0.7989\n",
            "Epoch 2/10\n",
            "1875/1875 [==============================] - 5s 2ms/step - loss: 0.2830 - accuracy: 0.8979\n",
            "Epoch 3/10\n",
            "1875/1875 [==============================] - 5s 3ms/step - loss: 0.2231 - accuracy: 0.9169\n",
            "Epoch 4/10\n",
            "1875/1875 [==============================] - 5s 2ms/step - loss: 0.1868 - accuracy: 0.9310\n",
            "Epoch 5/10\n",
            "1875/1875 [==============================] - 5s 3ms/step - loss: 0.1665 - accuracy: 0.9380\n",
            "Epoch 6/10\n",
            "1875/1875 [==============================] - 5s 3ms/step - loss: 0.1425 - accuracy: 0.9478\n",
            "Epoch 7/10\n",
            "1875/1875 [==============================] - 5s 2ms/step - loss: 0.1155 - accuracy: 0.9571\n",
            "Epoch 8/10\n",
            "1875/1875 [==============================] - 4s 2ms/step - loss: 0.1008 - accuracy: 0.9618\n",
            "Epoch 9/10\n",
            "1875/1875 [==============================] - 5s 2ms/step - loss: 0.0834 - accuracy: 0.9678\n",
            "Epoch 10/10\n",
            "1875/1875 [==============================] - 5s 3ms/step - loss: 0.0752 - accuracy: 0.9728\n"
          ],
          "name": "stdout"
        },
        {
          "output_type": "execute_result",
          "data": {
            "text/plain": [
              "<tensorflow.python.keras.callbacks.History at 0x7f80ec4be0f0>"
            ]
          },
          "metadata": {
            "tags": []
          },
          "execution_count": 24
        }
      ]
    },
    {
      "cell_type": "code",
      "metadata": {
        "colab": {
          "base_uri": "https://localhost:8080/"
        },
        "id": "UfEMSp7kAn_l",
        "outputId": "6adb774d-4a77-4c0c-d960-25c37f9e56a7"
      },
      "source": [
        "test_loss, test_accuracy = model.evaluate(test_dataset, steps=math.ceil(num_test_examples/32))\r\n",
        "print('Accuracy on test dataset:', test_accuracy)"
      ],
      "execution_count": null,
      "outputs": [
        {
          "output_type": "stream",
          "text": [
            "313/313 [==============================] - 1s 2ms/step - loss: 0.2864 - accuracy: 0.9225\n",
            "Accuracy on test dataset: 0.9225000143051147\n"
          ],
          "name": "stdout"
        }
      ]
    },
    {
      "cell_type": "code",
      "metadata": {
        "id": "KwDbT1DqCgq-"
      },
      "source": [
        ""
      ],
      "execution_count": null,
      "outputs": []
    },
    {
      "cell_type": "markdown",
      "metadata": {
        "id": "2fngqhY8CPix"
      },
      "source": [
        "#*Accuracy on test dataset:* ***92***%#\r\n"
      ]
    },
    {
      "cell_type": "markdown",
      "metadata": {
        "id": "DlxvvHZ7NgzA"
      },
      "source": [
        "\r\n",
        "\r\n",
        "# **Make Predictions and explore**|\r\n",
        "\r\n",
        "with the model trained, we can use it to make predictions about some image\r\n"
      ]
    },
    {
      "cell_type": "code",
      "metadata": {
        "id": "8kXnAPqILSJY"
      },
      "source": [
        "for test_images, test_labels in test_dataset.take(1):\r\n",
        "  test_images = test_images.numpy()\r\n",
        "  test_lables = test_labels.numpy()\r\n",
        "  predictions = model.predict(test_images)"
      ],
      "execution_count": null,
      "outputs": []
    },
    {
      "cell_type": "code",
      "metadata": {
        "colab": {
          "base_uri": "https://localhost:8080/"
        },
        "id": "JT04zPFxQaA3",
        "outputId": "6da2b2b7-62ba-46c3-feb8-df6b40d4db61"
      },
      "source": [
        "predictions.shape"
      ],
      "execution_count": null,
      "outputs": [
        {
          "output_type": "execute_result",
          "data": {
            "text/plain": [
              "(32, 10)"
            ]
          },
          "metadata": {
            "tags": []
          },
          "execution_count": 36
        }
      ]
    },
    {
      "cell_type": "code",
      "metadata": {
        "colab": {
          "base_uri": "https://localhost:8080/"
        },
        "id": "Ufzp51X9QfQO",
        "outputId": "8337f9ec-c463-4cc8-eed9-38e337b5771e"
      },
      "source": [
        "predictions[0]"
      ],
      "execution_count": null,
      "outputs": [
        {
          "output_type": "execute_result",
          "data": {
            "text/plain": [
              "array([8.1811315e-08, 4.3456080e-10, 3.4071019e-04, 5.0234408e-09,\n",
              "       9.1276145e-01, 6.1608468e-10, 8.6897679e-02, 2.4163421e-11,\n",
              "       2.1790324e-10, 8.9885397e-08], dtype=float32)"
            ]
          },
          "metadata": {
            "tags": []
          },
          "execution_count": 37
        }
      ]
    },
    {
      "cell_type": "markdown",
      "metadata": {
        "id": "xJmSQMowQu-m"
      },
      "source": [
        "A Prediction is an array of 10 numbers. These describe the \"confidence\" of the model that the image corresponds to each of the 10 different articles of clothing. We can see which label has the highest confidence value:"
      ]
    },
    {
      "cell_type": "code",
      "metadata": {
        "colab": {
          "base_uri": "https://localhost:8080/"
        },
        "id": "ObqnrcOKQl8i",
        "outputId": "accdfe19-5e0e-42b5-cb5d-f859b07b2c67"
      },
      "source": [
        "np.argmax(predictions[0])"
      ],
      "execution_count": null,
      "outputs": [
        {
          "output_type": "execute_result",
          "data": {
            "text/plain": [
              "4"
            ]
          },
          "metadata": {
            "tags": []
          },
          "execution_count": 38
        }
      ]
    },
    {
      "cell_type": "code",
      "metadata": {
        "colab": {
          "base_uri": "https://localhost:8080/"
        },
        "id": "mgVDBNYyROPD",
        "outputId": "5731fe01-bc8b-4583-fc7d-717c98d1f3a0"
      },
      "source": [
        "test_labels[0]"
      ],
      "execution_count": null,
      "outputs": [
        {
          "output_type": "execute_result",
          "data": {
            "text/plain": [
              "<tf.Tensor: shape=(), dtype=int64, numpy=4>"
            ]
          },
          "metadata": {
            "tags": []
          },
          "execution_count": 39
        }
      ]
    },
    {
      "cell_type": "markdown",
      "metadata": {
        "id": "zKxLJpC4RVTV"
      },
      "source": [
        "We can grrph this to look at the full set of 10 channels"
      ]
    },
    {
      "cell_type": "code",
      "metadata": {
        "id": "EYmuLMRdRLoB"
      },
      "source": [
        "def plot_image(i, predictions_array, true_labels, images):\r\n",
        "  predictions_array, true_label, img = predictions_array[i], true_labels[i], images[i]\r\n",
        "  plt.grid(False)\r\n",
        "  plt.xticks([])\r\n",
        "  plt.yticks([])\r\n",
        "  \r\n",
        "  plt.imshow(img[...,0], cmap=plt.cm.binary)\r\n",
        "\r\n",
        "  predicted_label = np.argmax(predictions_array)\r\n",
        "  if predicted_label == true_label:\r\n",
        "    color = 'blue'\r\n",
        "  else:\r\n",
        "    color = 'red'\r\n",
        "  \r\n",
        "  plt.xlabel(\"{} {:2.0f}% ({})\".format(class_names[predicted_label],\r\n",
        "                                100*np.max(predictions_array),\r\n",
        "                                class_names[true_label]),\r\n",
        "                                color=color)\r\n",
        "\r\n",
        "def plot_value_array(i, predictions_array, true_label):\r\n",
        "  predictions_array, true_label = predictions_array[i], true_label[i]\r\n",
        "  plt.grid(False)\r\n",
        "  plt.xticks([])\r\n",
        "  plt.yticks([])\r\n",
        "  thisplot = plt.bar(range(10), predictions_array, color=\"#777777\")\r\n",
        "  plt.ylim([0, 1]) \r\n",
        "  predicted_label = np.argmax(predictions_array)\r\n",
        "  \r\n",
        "  thisplot[predicted_label].set_color('red')\r\n",
        "  thisplot[true_label].set_color('blue')\r\n"
      ],
      "execution_count": null,
      "outputs": []
    },
    {
      "cell_type": "markdown",
      "metadata": {
        "id": "IV9CeQfC2juy"
      },
      "source": [
        "Now looks at the 0th image, predictions and predictions array."
      ]
    },
    {
      "cell_type": "code",
      "metadata": {
        "colab": {
          "base_uri": "https://localhost:8080/",
          "height": 203
        },
        "id": "oFMos2W34oXi",
        "outputId": "d91cb6d4-8b23-4582-f494-98cc742c7994"
      },
      "source": [
        "i = 0\r\n",
        "plt.figure(figsize=(6,3))\r\n",
        "plt.subplot(1,2,1)\r\n",
        "plot_image(i, predictions, test_labels, test_images)\r\n",
        "plt.subplot(1,2,2)\r\n",
        "plot_value_array(i, predictions, test_labels)"
      ],
      "execution_count": null,
      "outputs": [
        {
          "output_type": "display_data",
          "data": {
            "image/png": "[encoded data removed]",
            "text/plain": [
              "<Figure size 432x216 with 2 Axes>"
            ]
          },
          "metadata": {
            "tags": []
          }
        }
      ]
    },
    {
      "cell_type": "code",
      "metadata": {
        "colab": {
          "base_uri": "https://localhost:8080/",
          "height": 589
        },
        "id": "J9mpTkykS5-8",
        "outputId": "cd2e523d-3e55-4589-bb51-963adfdfdcfb"
      },
      "source": [
        "num_row = 5\r\n",
        "num_cols = 3\r\n",
        "num_images = num_row * num_cols\r\n",
        "plt.figure(figsize=(2*2*num_cols, 2*num_row))\r\n",
        "                                                   \r\n",
        "for i in range(num_images):\r\n",
        "  plt.subplot(num_row, 2* num_cols, 2*i+1)\r\n",
        "  plot_image(i, predictions, test_labels, test_images)\r\n",
        "  plt.subplot(num_row, 2*num_cols, 2*i+2)\r\n",
        "  plot_value_array(i, predictions, test_labels)"
      ],
      "execution_count": null,
      "outputs": [
        {
          "output_type": "display_data",
          "data": {
            "image/png": "[encoded data removed]",
            "text/plain": [
              "<Figure size 864x720 with 30 Axes>"
            ]
          },
          "metadata": {
            "tags": []
          }
        }
      ]
    },
    {
      "cell_type": "markdown",
      "metadata": {
        "id": "GFeoUtdmD5Jp"
      },
      "source": [
        ""
      ]
    }
  ]
}