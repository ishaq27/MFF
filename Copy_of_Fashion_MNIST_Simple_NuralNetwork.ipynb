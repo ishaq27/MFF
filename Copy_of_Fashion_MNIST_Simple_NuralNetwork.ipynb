{
  "nbformat": 4,
  "nbformat_minor": 0,
  "metadata": {
    "colab": {
      "name": "Copy of Fashion MNIST Simple NuralNetwork.ipynb",
      "provenance": [],
      "collapsed_sections": [],
      "authorship_tag": "ABX9TyOjGr1HB5BSdx6Grfwpa6SP",
      "include_colab_link": true
    },
    "kernelspec": {
      "name": "python3",
      "display_name": "Python 3"
    },
    "accelerator": "GPU"
  },
  "cells": [
    {
      "cell_type": "markdown",
      "metadata": {
        "id": "view-in-github",
        "colab_type": "text"
      },
      "source": [
        "<a href=\"https://colab.research.google.com/github/ishaq27/MFF/blob/master/Copy_of_Fashion_MNIST_Simple_NuralNetwork.ipynb\" target=\"_parent\"><img src=\"https://colab.research.google.com/assets/colab-badge.svg\" alt=\"Open In Colab\"/></a>"
      ]
    },
    {
      "cell_type": "markdown",
      "metadata": {
        "id": "iZdCQdGdD7Yd"
      },
      "source": [
        "### Fashion MNIST DataSet\r\n",
        "#***By Muhammad Ishaq - PIAIC61884***"
      ]
    },
    {
      "cell_type": "markdown",
      "metadata": {
        "id": "kQCkFVwkF9Gs"
      },
      "source": [
        "Model creation using simple neural networks"
      ]
    },
    {
      "cell_type": "code",
      "metadata": {
        "colab": {
          "base_uri": "https://localhost:8080/"
        },
        "id": "1frKahh8A6El",
        "outputId": "05de697c-0e11-47a1-bd17-a451f7f786ac"
      },
      "source": [
        "pip install -U tensorflow_datasets"
      ],
      "execution_count": null,
      "outputs": [
        {
          "output_type": "stream",
          "text": [
            "Requirement already up-to-date: tensorflow_datasets in /usr/local/lib/python3.6/dist-packages (4.2.0)\n",
            "Requirement already satisfied, skipping upgrade: termcolor in /usr/local/lib/python3.6/dist-packages (from tensorflow_datasets) (1.1.0)\n",
            "Requirement already satisfied, skipping upgrade: promise in /usr/local/lib/python3.6/dist-packages (from tensorflow_datasets) (2.3)\n",
            "Requirement already satisfied, skipping upgrade: numpy in /usr/local/lib/python3.6/dist-packages (from tensorflow_datasets) (1.19.5)\n",
            "Requirement already satisfied, skipping upgrade: dataclasses; python_version < \"3.7\" in /usr/local/lib/python3.6/dist-packages (from tensorflow_datasets) (0.8)\n",
            "Requirement already satisfied, skipping upgrade: requests>=2.19.0 in /usr/local/lib/python3.6/dist-packages (from tensorflow_datasets) (2.23.0)\n",
            "Requirement already satisfied, skipping upgrade: tqdm in /usr/local/lib/python3.6/dist-packages (from tensorflow_datasets) (4.41.1)\n",
            "Requirement already satisfied, skipping upgrade: typing-extensions; python_version < \"3.8\" in /usr/local/lib/python3.6/dist-packages (from tensorflow_datasets) (3.7.4.3)\n",
            "Requirement already satisfied, skipping upgrade: importlib-resources; python_version < \"3.9\" in /usr/local/lib/python3.6/dist-packages (from tensorflow_datasets) (5.1.0)\n",
            "Requirement already satisfied, skipping upgrade: dill in /usr/local/lib/python3.6/dist-packages (from tensorflow_datasets) (0.3.3)\n",
            "Requirement already satisfied, skipping upgrade: protobuf>=3.12.2 in /usr/local/lib/python3.6/dist-packages (from tensorflow_datasets) (3.12.4)\n",
            "Requirement already satisfied, skipping upgrade: absl-py in /usr/local/lib/python3.6/dist-packages (from tensorflow_datasets) (0.10.0)\n",
            "Requirement already satisfied, skipping upgrade: tensorflow-metadata in /usr/local/lib/python3.6/dist-packages (from tensorflow_datasets) (0.27.0)\n",
            "Requirement already satisfied, skipping upgrade: six in /usr/local/lib/python3.6/dist-packages (from tensorflow_datasets) (1.15.0)\n",
            "Requirement already satisfied, skipping upgrade: attrs>=18.1.0 in /usr/local/lib/python3.6/dist-packages (from tensorflow_datasets) (20.3.0)\n",
            "Requirement already satisfied, skipping upgrade: future in /usr/local/lib/python3.6/dist-packages (from tensorflow_datasets) (0.16.0)\n",
            "Requirement already satisfied, skipping upgrade: idna<3,>=2.5 in /usr/local/lib/python3.6/dist-packages (from requests>=2.19.0->tensorflow_datasets) (2.10)\n",
            "Requirement already satisfied, skipping upgrade: chardet<4,>=3.0.2 in /usr/local/lib/python3.6/dist-packages (from requests>=2.19.0->tensorflow_datasets) (3.0.4)\n",
            "Requirement already satisfied, skipping upgrade: certifi>=2017.4.17 in /usr/local/lib/python3.6/dist-packages (from requests>=2.19.0->tensorflow_datasets) (2020.12.5)\n",
            "Requirement already satisfied, skipping upgrade: urllib3!=1.25.0,!=1.25.1,<1.26,>=1.21.1 in /usr/local/lib/python3.6/dist-packages (from requests>=2.19.0->tensorflow_datasets) (1.24.3)\n",
            "Requirement already satisfied, skipping upgrade: zipp>=0.4; python_version < \"3.8\" in /usr/local/lib/python3.6/dist-packages (from importlib-resources; python_version < \"3.9\"->tensorflow_datasets) (3.4.0)\n",
            "Requirement already satisfied, skipping upgrade: setuptools in /usr/local/lib/python3.6/dist-packages (from protobuf>=3.12.2->tensorflow_datasets) (53.0.0)\n",
            "Requirement already satisfied, skipping upgrade: googleapis-common-protos<2,>=1.52.0 in /usr/local/lib/python3.6/dist-packages (from tensorflow-metadata->tensorflow_datasets) (1.52.0)\n"
          ],
          "name": "stdout"
        }
      ]
    },
    {
      "cell_type": "code",
      "metadata": {
        "id": "ibA-hj-oD6aI"
      },
      "source": [
        "from __future__ import absolute_import, division, print_function"
      ],
      "execution_count": null,
      "outputs": []
    },
    {
      "cell_type": "code",
      "metadata": {
        "id": "CzFFDpA_Bgub"
      },
      "source": [
        "\r\n",
        "import tensorflow as tf\r\n",
        "import tensorflow_datasets as tfds\r\n",
        "tfds.disable_progress_bar()\r\n",
        "tf.compat.v1.logging.set_verbosity(tf.compat.v1.logging.ERROR)"
      ],
      "execution_count": null,
      "outputs": []
    },
    {
      "cell_type": "code",
      "metadata": {
        "id": "sqflsdzQ7TAw"
      },
      "source": [
        "import logging\r\n",
        "logger = tf.get_logger()\r\n",
        "logger.setLevel(logging.ERROR)"
      ],
      "execution_count": null,
      "outputs": []
    },
    {
      "cell_type": "code",
      "metadata": {
        "id": "MkGVx83rD4iV"
      },
      "source": [
        "import math\r\n",
        "import numpy as np\r\n",
        "import matplotlib.pyplot as plt\r\n"
      ],
      "execution_count": null,
      "outputs": []
    },
    {
      "cell_type": "code",
      "metadata": {
        "id": "v_pY6rW7Dtxo"
      },
      "source": [
        "# for better progress bar\r\n",
        "import tqdm\r\n",
        "import tqdm.auto\r\n",
        "tqdm.tqdm = tqdm.auto.tqdm"
      ],
      "execution_count": null,
      "outputs": []
    },
    {
      "cell_type": "code",
      "metadata": {
        "colab": {
          "base_uri": "https://localhost:8080/"
        },
        "id": "nwQ2BhdZP8fQ",
        "outputId": "9287b5cb-184b-4cd0-f042-4e8966370ea7"
      },
      "source": [
        "print(tf.__version__)"
      ],
      "execution_count": null,
      "outputs": [
        {
          "output_type": "stream",
          "text": [
            "2.4.1\n"
          ],
          "name": "stdout"
        }
      ]
    },
    {
      "cell_type": "code",
      "metadata": {
        "id": "-LkiI2AgPrnY"
      },
      "source": [
        "tf.compat.v1.enable_eager_execution()"
      ],
      "execution_count": null,
      "outputs": []
    },
    {
      "cell_type": "code",
      "metadata": {
        "id": "ifGOhzXF79Vr"
      },
      "source": [
        ""
      ],
      "execution_count": null,
      "outputs": []
    },
    {
      "cell_type": "code",
      "metadata": {
        "id": "1eqB2u78lr3w"
      },
      "source": [
        "dataset, metadata = tfds.load('fashion_mnist',as_supervised=True, with_info=True)\r\n",
        "train_dataset, test_dataset = dataset['train'], dataset['test']"
      ],
      "execution_count": null,
      "outputs": []
    },
    {
      "cell_type": "code",
      "metadata": {
        "colab": {
          "base_uri": "https://localhost:8080/"
        },
        "id": "kAsMjJTS8dqp",
        "outputId": "97540b6c-c812-4dfd-b768-21da2d1a4868"
      },
      "source": [
        "class_names = metadata.features['label'].names\r\n",
        "print(\"Class names: {}\".format(class_names))"
      ],
      "execution_count": null,
      "outputs": [
        {
          "output_type": "stream",
          "text": [
            "Class names: ['T-shirt/top', 'Trouser', 'Pullover', 'Dress', 'Coat', 'Sandal', 'Shirt', 'Sneaker', 'Bag', 'Ankle boot']\n"
          ],
          "name": "stdout"
        }
      ]
    },
    {
      "cell_type": "code",
      "metadata": {
        "colab": {
          "base_uri": "https://localhost:8080/"
        },
        "id": "4d7YCpXLSNNl",
        "outputId": "cf5bee64-9e04-4856-8396-db4ff369a715"
      },
      "source": [
        "metadata = metadat\r\n",
        "num_train_examples = metadata.splits['train'].num_examples\r\n",
        "num_test_examples = metadata.splits['test'].num_examples\r\n",
        "\r\n",
        "print('Number of training examples:{}'.format(num_train_examples))\r\n",
        "print('Number of test examples:{}'.format(num_test_examples))"
      ],
      "execution_count": null,
      "outputs": [
        {
          "output_type": "stream",
          "text": [
            "Number of training examples:60000\n",
            "Number of test examples:10000\n"
          ],
          "name": "stdout"
        }
      ]
    },
    {
      "cell_type": "markdown",
      "metadata": {
        "id": "GCo4hN4xiQVw"
      },
      "source": [
        "# data preprocessing started"
      ]
    },
    {
      "cell_type": "code",
      "metadata": {
        "id": "Xzd8F7v3UhKH"
      },
      "source": [
        "def normalize(images, labels):\r\n",
        "  images = tf.cast(images, tf.float32)\r\n",
        "  images /= 255\r\n",
        "  return images, labels\r\n",
        "\r\n",
        "# The map functionapplies the normalize function to each element in the tranin\r\n",
        "# and test datasets\r\n",
        "train_dataset = train_dataset.map(normalize)\r\n",
        "test_dataset = test_dataset.map(normalize)\r\n",
        "\r\n",
        "train_dataset =  train_dataset.cache()\r\n",
        "test_dataset  =  test_dataset.cache()\r\n"
      ],
      "execution_count": null,
      "outputs": []
    },
    {
      "cell_type": "markdown",
      "metadata": {
        "id": "0vcYMZrWlv-1"
      },
      "source": [
        "dataset, metadat = tfds.load('fashion_mnist',as_supervised=True, with_info=True)\r\n",
        "train_dataset, test_dataset = dataset['train'], dataset['test']"
      ]
    },
    {
      "cell_type": "markdown",
      "metadata": {
        "id": "yRwYWZQojTOZ"
      },
      "source": [
        "# Explore the processed data\r\n",
        "lets plot an image to see what it looks like\r\n"
      ]
    },
    {
      "cell_type": "code",
      "metadata": {
        "colab": {
          "base_uri": "https://localhost:8080/",
          "height": 269
        },
        "id": "xYU5a_EIhmi_",
        "outputId": "a1790a0f-04a7-4de2-cd69-259bd6fbc318"
      },
      "source": [
        "# Tae a sngle image, and reove the color dimension by eshaping\r\n",
        "\r\n",
        "for image, label in test_dataset.take(1):\r\n",
        "  break\r\n",
        "image = image.numpy().reshape((28,28))\r\n",
        "\r\n",
        "# Plot the image - voila a piece of fashion clothing\r\n",
        "plt.figure()\r\n",
        "plt.imshow(image, cmap=plt.cm.binary)\r\n",
        "plt.colorbar()\r\n",
        "plt.grid(False)\r\n",
        "plt.show()"
      ],
      "execution_count": null,
      "outputs": [
        {
          "output_type": "display_data",
          "data": {
            "image/png": "[encoded data removed]",
            "text/plain": [
              "<Figure size 432x288 with 2 Axes>"
            ]
          },
          "metadata": {
            "tags": [],
            "needs_background": "light"
          }
        }
      ]
    },
    {
      "cell_type": "code",
      "metadata": {
        "colab": {
          "base_uri": "https://localhost:8080/",
          "height": 589
        },
        "id": "n6txMbEvkVmQ",
        "outputId": "b851597d-9add-4f87-e44a-dbc670dcf8c1"
      },
      "source": [
        "plt.figure(figsize=(10,10))\r\n",
        "for i, (image, label) in enumerate(test_dataset.take(25)):\r\n",
        "  image = image.numpy().reshape((28,28))\r\n",
        "  plt.subplot(5,5,i+1)\r\n",
        "  plt.xticks([])\r\n",
        "  plt.yticks([])\r\n",
        "  plt.grid(False)\r\n",
        "  plt.imshow(image, cmap=plt.cm.binary)\r\n",
        "  plt.xlabel(class_names[label])\r\n",
        "  i += 1\r\n",
        "plt.show()\r\n"
      ],
      "execution_count": null,
      "outputs": [
        {
          "output_type": "display_data",
          "data": {
            "image/png": "[encoded data removed]",
            "text/plain": [
              "<Figure size 720x720 with 25 Axes>"
            ]
          },
          "metadata": {
            "tags": []
          }
        }
      ]
    },
    {
      "cell_type": "markdown",
      "metadata": {
        "id": "Ay5Uugzc-yZg"
      },
      "source": [
        "# Build the model\r\n",
        "Building the nural network requires configuring the layers f the model, then compiling the model.\r\n",
        "\r\n",
        "# Setup the layers\r\n",
        "The basic buildng block of neural network is the layer. A layer extracts a representation from the data fed into it. Hopefully, a series of connected layers results in a representation that is meaningful for the problem at hand.\r\n",
        "\r\n",
        "Much of deep leaning consists of chaining together simple layers. Most layers, like tf.keras.layers.Dense,have internal parameters which are adjusted(\"learned\") during training."
      ]
    },
    {
      "cell_type": "code",
      "metadata": {
        "id": "Rng9mutEnroP"
      },
      "source": [
        "model = tf.keras.Sequential([\r\n",
        "        tf.keras.layers.Flatten(input_shape=(28,28,1)),\r\n",
        "        tf.keras.layers.Dense(128, activation=tf.nn.relu),\r\n",
        "        tf.keras.layers.Dense(10, activation=tf.nn.softmax)\r\n",
        "])"
      ],
      "execution_count": null,
      "outputs": []
    },
    {
      "cell_type": "code",
      "metadata": {
        "id": "eQdorMhWHeX5"
      },
      "source": [
        "num_train_example = metadata.splits['train'].num_examples"
      ],
      "execution_count": null,
      "outputs": []
    },
    {
      "cell_type": "code",
      "metadata": {
        "id": "0Z1207NsAzk0"
      },
      "source": [
        "model.compile(optimizer='adam',\r\n",
        "              loss=tf.keras.losses.SparseCategoricalCrossentropy(),\r\n",
        "              metrics=['accuracy'])"
      ],
      "execution_count": null,
      "outputs": []
    },
    {
      "cell_type": "code",
      "metadata": {
        "id": "_jKjxFFMJkrj"
      },
      "source": [
        "#num_train_example = 60000\r\n",
        "#num_test_example = 10000"
      ],
      "execution_count": null,
      "outputs": []
    },
    {
      "cell_type": "markdown",
      "metadata": {
        "id": "4bBDOzFhCUHj"
      },
      "source": [
        "#**Train the model**\r\n",
        "First, we define the iteration behavior for the train dataset:\r\n",
        "\r\n",
        "1. Repeat forever for specifying dataet.repeat() (the epochs parameter described below limits how long we perform training).\r\n",
        "2. The dataset.shuffle(60000) randomizes the order so our model cannot learn anything from the order of the example\r\n",
        "3.And dataset.batch(32) tells model.fit to use batches of 32 images and labels when updating the model variables.\r\n",
        "\r\n",
        "\r\n",
        "Traning is performed by calling the model.fit method:\r\n",
        "\r\n",
        "1. Feed the training data to the model using train_dataset\r\n",
        "2. model learns to associate images and labels.\r\n",
        "3. The eochs=5 parameter limits training to 5 full iterations of the training dataset, so a total of 5*60000 = 300000 examples.\r\n",
        "\r\n",
        "(Don't worry aboutsteps_per_epoch, the requirement to have this flag will soon be removed\r\n"
      ]
    },
    {
      "cell_type": "code",
      "metadata": {
        "id": "GGiBVrDbB8Lx"
      },
      "source": [
        "BATCH_SIZE = 32\r\n",
        "train_dataset = train_dataset.cache().repeat().shuffle(num_train_example).batch(BATCH_SIZE)\r\n",
        "test_dataset = test_dataset.cache().batch(BATCH_SIZE)\r\n"
      ],
      "execution_count": null,
      "outputs": []
    },
    {
      "cell_type": "code",
      "metadata": {
        "colab": {
          "base_uri": "https://localhost:8080/"
        },
        "id": "bqSx-E_bHULn",
        "outputId": "345b360c-4f4d-4d1e-c3fb-9609a37bb7c0"
      },
      "source": [
        "model.fit(train_dataset, epochs=5,steps_per_epoch=math.ceil(num_test_examples/BATCH_SIZE))"
      ],
      "execution_count": null,
      "outputs": [
        {
          "output_type": "stream",
          "text": [
            "Epoch 1/5\n",
            "313/313 [==============================] - 5s 2ms/step - loss: 0.9370 - accuracy: 0.6718\n",
            "Epoch 2/5\n",
            "313/313 [==============================] - 1s 2ms/step - loss: 0.5150 - accuracy: 0.8158\n",
            "Epoch 3/5\n",
            "313/313 [==============================] - 1s 2ms/step - loss: 0.4701 - accuracy: 0.8336\n",
            "Epoch 4/5\n",
            "313/313 [==============================] - 1s 2ms/step - loss: 0.4636 - accuracy: 0.8385\n",
            "Epoch 5/5\n",
            "313/313 [==============================] - 1s 2ms/step - loss: 0.4167 - accuracy: 0.8532\n"
          ],
          "name": "stdout"
        },
        {
          "output_type": "execute_result",
          "data": {
            "text/plain": [
              "<tensorflow.python.keras.callbacks.History at 0x7fe82206d128>"
            ]
          },
          "metadata": {
            "tags": []
          },
          "execution_count": 25
        }
      ]
    },
    {
      "cell_type": "code",
      "metadata": {
        "colab": {
          "base_uri": "https://localhost:8080/"
        },
        "id": "UfEMSp7kAn_l",
        "outputId": "99f7e3fb-4363-4fd3-9d04-7434af078dbe"
      },
      "source": [
        "test_loss, test_accuracy = model.evaluate(test_dataset, steps=math.ceil(num_test_examples/32))\r\n",
        "print('Accuracy on test dataset:', test_accuracy)"
      ],
      "execution_count": null,
      "outputs": [
        {
          "output_type": "stream",
          "text": [
            "313/313 [==============================] - 1s 4ms/step - loss: 0.4511 - accuracy: 0.8410\n",
            "Accuracy on test dataset: 0.8410000205039978\n"
          ],
          "name": "stdout"
        }
      ]
    },
    {
      "cell_type": "code",
      "metadata": {
        "id": "KwDbT1DqCgq-"
      },
      "source": [
        ""
      ],
      "execution_count": null,
      "outputs": []
    },
    {
      "cell_type": "markdown",
      "metadata": {
        "id": "2fngqhY8CPix"
      },
      "source": [
        "#*Accuracy on test dataset:* ***84***%#\r\n"
      ]
    },
    {
      "cell_type": "markdown",
      "metadata": {
        "id": "DlxvvHZ7NgzA"
      },
      "source": [
        "\r\n",
        "\r\n",
        "# **Make Predictions and explore**|\r\n",
        "\r\n",
        "with the model trained, we can use it to make predictions about some image\r\n"
      ]
    },
    {
      "cell_type": "code",
      "metadata": {
        "id": "8kXnAPqILSJY"
      },
      "source": [
        "for test_images, test_labels in test_dataset.take(1):\r\n",
        "  test_images = test_images.numpy()\r\n",
        "  test_lables = test_labels.numpy()\r\n",
        "  predictions = model.predict(test_images)"
      ],
      "execution_count": null,
      "outputs": []
    },
    {
      "cell_type": "code",
      "metadata": {
        "colab": {
          "base_uri": "https://localhost:8080/"
        },
        "id": "JT04zPFxQaA3",
        "outputId": "e5eeb836-4420-48b9-d0dc-52f434efcc5f"
      },
      "source": [
        "predictions.shape"
      ],
      "execution_count": null,
      "outputs": [
        {
          "output_type": "execute_result",
          "data": {
            "text/plain": [
              "(32, 10)"
            ]
          },
          "metadata": {
            "tags": []
          },
          "execution_count": 29
        }
      ]
    },
    {
      "cell_type": "code",
      "metadata": {
        "colab": {
          "base_uri": "https://localhost:8080/"
        },
        "id": "Ufzp51X9QfQO",
        "outputId": "b1b1e20f-132f-4af8-f3e6-cff8a1fa8880"
      },
      "source": [
        "predictions[0]"
      ],
      "execution_count": null,
      "outputs": [
        {
          "output_type": "execute_result",
          "data": {
            "text/plain": [
              "array([8.8089619e-05, 2.0248337e-04, 1.0481044e-01, 1.0463466e-04,\n",
              "       8.5924643e-01, 4.0866092e-07, 3.5041239e-02, 4.2834831e-08,\n",
              "       5.0627650e-04, 2.6109051e-08], dtype=float32)"
            ]
          },
          "metadata": {
            "tags": []
          },
          "execution_count": 30
        }
      ]
    },
    {
      "cell_type": "markdown",
      "metadata": {
        "id": "xJmSQMowQu-m"
      },
      "source": [
        "A Prediction is an array of 10 numbers. These describe the \"confidence\" of the model that the image corresponds to each of the 10 different articles of clothing. We can see which label has the highest confidence value:"
      ]
    },
    {
      "cell_type": "code",
      "metadata": {
        "colab": {
          "base_uri": "https://localhost:8080/"
        },
        "id": "ObqnrcOKQl8i",
        "outputId": "aac5cb51-c189-4425-dfdd-8108419b4bd7"
      },
      "source": [
        "np.argmax(predictions[0])"
      ],
      "execution_count": null,
      "outputs": [
        {
          "output_type": "execute_result",
          "data": {
            "text/plain": [
              "4"
            ]
          },
          "metadata": {
            "tags": []
          },
          "execution_count": 31
        }
      ]
    },
    {
      "cell_type": "code",
      "metadata": {
        "colab": {
          "base_uri": "https://localhost:8080/"
        },
        "id": "mgVDBNYyROPD",
        "outputId": "6e61445c-684b-4d52-c868-dd8e178d4009"
      },
      "source": [
        "test_labels[0]"
      ],
      "execution_count": null,
      "outputs": [
        {
          "output_type": "execute_result",
          "data": {
            "text/plain": [
              "<tf.Tensor: shape=(), dtype=int64, numpy=4>"
            ]
          },
          "metadata": {
            "tags": []
          },
          "execution_count": 32
        }
      ]
    },
    {
      "cell_type": "markdown",
      "metadata": {
        "id": "zKxLJpC4RVTV"
      },
      "source": [
        "We can grrph this to look at the full set of 10 channels"
      ]
    },
    {
      "cell_type": "code",
      "metadata": {
        "id": "EYmuLMRdRLoB"
      },
      "source": [
        "def plot_image(i, predictions_array, true_labels, images):\r\n",
        "  predictions_array, true_label, img = predictions_array[i], true_labels[i], images[i]\r\n",
        "  plt.grid(False)\r\n",
        "  plt.xticks([])\r\n",
        "  plt.yticks([])\r\n",
        "  \r\n",
        "  plt.imshow(img[...,0], cmap=plt.cm.binary)\r\n",
        "\r\n",
        "  predicted_label = np.argmax(predictions_array)\r\n",
        "  if predicted_label == true_label:\r\n",
        "    color = 'blue'\r\n",
        "  else:\r\n",
        "    color = 'red'\r\n",
        "  \r\n",
        "  plt.xlabel(\"{} {:2.0f}% ({})\".format(class_names[predicted_label],\r\n",
        "                                100*np.max(predictions_array),\r\n",
        "                                class_names[true_label]),\r\n",
        "                                color=color)\r\n",
        "\r\n",
        "def plot_value_array(i, predictions_array, true_label):\r\n",
        "  predictions_array, true_label = predictions_array[i], true_label[i]\r\n",
        "  plt.grid(False)\r\n",
        "  plt.xticks([])\r\n",
        "  plt.yticks([])\r\n",
        "  thisplot = plt.bar(range(10), predictions_array, color=\"#777777\")\r\n",
        "  plt.ylim([0, 1]) \r\n",
        "  predicted_label = np.argmax(predictions_array)\r\n",
        "  \r\n",
        "  thisplot[predicted_label].set_color('red')\r\n",
        "  thisplot[true_label].set_color('blue')\r\n"
      ],
      "execution_count": null,
      "outputs": []
    },
    {
      "cell_type": "markdown",
      "metadata": {
        "id": "IV9CeQfC2juy"
      },
      "source": [
        "Now looks at the 0th image, predictions and predictions array."
      ]
    },
    {
      "cell_type": "code",
      "metadata": {
        "id": "KOZo7G1D2ums"
      },
      "source": [
        ""
      ],
      "execution_count": null,
      "outputs": []
    },
    {
      "cell_type": "code",
      "metadata": {
        "id": "6gHCLV_M2iyR"
      },
      "source": [
        ""
      ],
      "execution_count": null,
      "outputs": []
    },
    {
      "cell_type": "code",
      "metadata": {
        "id": "NHBKfi-brlpA"
      },
      "source": [
        "def plot_value_array1(i, predictions_array, true_labels):\r\n",
        "  prediction_array, true_label = predictions_array[i], true_labels[i]\r\n",
        "  plt.grid(False)\r\n",
        "  plt.xticks([])\r\n",
        "  plt.yticks([])\r\n",
        "\r\n",
        "  thisplot = plt.bar(range(10), prediction_array,\r\n",
        "                     color='#777777') \r\n",
        "  plt.ylim([0,1])\r\n",
        "  predicted_label = np.argmax(prediction_array)\r\n",
        "  thisplot[predicted_label].set_color('red')\r\n",
        "  thisplot[true_label].set_color('blue')"
      ],
      "execution_count": null,
      "outputs": []
    },
    {
      "cell_type": "code",
      "metadata": {
        "colab": {
          "base_uri": "https://localhost:8080/",
          "height": 203
        },
        "id": "oFMos2W34oXi",
        "outputId": "c394a0c9-4bc1-4feb-bb21-d53e38e772e1"
      },
      "source": [
        "i = 0\r\n",
        "plt.figure(figsize=(6,3))\r\n",
        "plt.subplot(1,2,1)\r\n",
        "plot_image(i, predictions, test_labels, test_images)\r\n",
        "plt.subplot(1,2,2)\r\n",
        "plot_value_array(i, predictions, test_labels)"
      ],
      "execution_count": null,
      "outputs": [
        {
          "output_type": "display_data",
          "data": {
            "image/png": "[encoded data removed]",
            "text/plain": [
              "<Figure size 432x216 with 2 Axes>"
            ]
          },
          "metadata": {
            "tags": []
          }
        }
      ]
    },
    {
      "cell_type": "code",
      "metadata": {
        "colab": {
          "base_uri": "https://localhost:8080/",
          "height": 589
        },
        "id": "J9mpTkykS5-8",
        "outputId": "823d066a-27d1-4613-e390-eefe70c6caa2"
      },
      "source": [
        "num_row = 5\r\n",
        "num_cols = 3\r\n",
        "num_images = num_row * num_cols\r\n",
        "plt.figure(figsize=(2*2*num_cols, 2*num_row))\r\n",
        "                                                   \r\n",
        "for i in range(num_images):\r\n",
        "  plt.subplot(num_row, 2* num_cols, 2*i+1)\r\n",
        "  plot_image(i, predictions, test_labels, test_images)\r\n",
        "  plt.subplot(num_row, 2*num_cols, 2*i+2)\r\n",
        "  plot_value_array(i, predictions, test_labels)"
      ],
      "execution_count": null,
      "outputs": [
        {
          "output_type": "display_data",
          "data": {
            "image/png": "[encoded data removed]",
            "text/plain": [
              "<Figure size 864x720 with 30 Axes>"
            ]
          },
          "metadata": {
            "tags": []
          }
        }
      ]
    },
    {
      "cell_type": "markdown",
      "metadata": {
        "id": "GFeoUtdmD5Jp"
      },
      "source": [
        ""
      ]
    }
  ]
}